{
 "cells": [
  {
   "cell_type": "markdown",
   "metadata": {
    "colab_type": "text",
    "id": "bAWMJZBaBAn-"
   },
   "source": [
    "# Newton-Raphson method for the solution of nonlinear systems of equations \n",
    "\n",
    "This method is a generalization of Newton's method for the numerical solution of single-variable equations.  \n",
    "  \n",
    "The formula for this method is:  \n",
    "$$X^{i+1} = X^i–J(X^i)^{-1}F(X^i)$$\n",
    "Where:  \n",
    "$X^i$ Is the column vector of the ith values for the $x_1,x_2,\\cdots,x_n$ variables  \n",
    "$F(X^i)$ Is the column vector of functions $f_1(X),f_2(X),\\cdots,f_n(X)$ evaluated whit $X^i$  \n",
    "$J(X)$ Is the Jacobian Matrix evaluated whit $X^i$\n",
    "  \n",
    "**Reminder**  \n",
    "Let $f_i(x_1,x_2,\\cdots,x_n)$ whit $1≤i≤n$ functions  with n variables ($x_j$) independent. The Jacobian matrix $J(x_1,x_2,\\cdots,x_n)$ is conformed by partial derivatives for each one of the functions respect each variable \n",
    "\n",
    "$$J=\\begin{equation}\n",
    "\\begin{bmatrix}\n",
    "\\frac{\\partial}{\\partial x_1}f_1(x_1,x_2,\\cdots,x_n) & \\frac{\\partial}{\\partial x_2}f_1(x_1,x_2,\\cdots,x_n) & \\cdots &\\frac{\\partial}{\\partial x_n}f_1(x_1,x_2,\\cdots,x_n)\\\\\n",
    "\\frac{\\partial}{\\partial x_1}f_2(x_1,x_2,\\cdots,x_n) & \\frac{\\partial}{\\partial x_2}f_2(x_1,x_2,\\cdots,x_n) & \\cdots &\\frac{\\partial}{\\partial x_n}f_2(x_1,x_2,\\cdots,x_n)\\\\\n",
    "\\vdots & \\vdots & \\ddots & \\vdots\\\\\n",
    "\\frac{\\partial}{\\partial x_1}f_n(x_1,x_2,\\cdots,x_n) & \\frac{\\partial}{\\partial x_2}f_n(x_1,x_2,\\cdots,x_n) & \\cdots &\\frac{\\partial}{\\partial x_n}f_n(x_1,x_2,\\cdots,x_n)\n",
    "\\end{bmatrix}\n",
    "\\end{equation}$$  \n",
    "**Considerations for algortihm**  \n",
    "  - Spectral norm to compute error in the iterations.  \n",
    "  - If one variable is multipling by a constant you need to insert an asterisk bewteen these: c*x  \n",
    "  - Exponents use two asterisks: x\\*\\*n  \n",
    "  - For trigonometric functions: sin(x), cos(x), etc.  \n",
    "  - For the exponential function use: exp(x)\n",
    "  - For square roots use: sqrt(x)\n",
    "  - For more information visit Sympy documentation: https://docs.sympy.org/latest/index.html\n",
    "  \n",
    "Example:  \n",
    "Fuction: $x^3-sin(x)+e^{6x}$  \n",
    "Input: x\\*\\*3-sin(x)+exp(6\\*x)  \n",
    "Desgined by: <font color='blue'>*richi1325*</font>  \n",
    "*LinkedIn:https://www.linkedin.com/in/richi1325*"
   ]
  },
  {
   "cell_type": "code",
   "execution_count": null,
   "metadata": {
    "colab": {},
    "colab_type": "code",
    "id": "9sfIJbiTBBK0"
   },
   "outputs": [],
   "source": [
    "#------------------modules-------------------\n",
    "from NewtonRaphson.NewtonRaphsonModel import NewtonRaphsonModel\n",
    "from sympy import sympify\n",
    "from IPython.display import clear_output"
   ]
  },
  {
   "cell_type": "code",
   "execution_count": null,
   "metadata": {},
   "outputs": [],
   "source": [
    "#This while loop repeat the algorithm until user want to exit\n",
    "while True:\n",
    "    #In this part user insert the number of variables\n",
    "    while True:\n",
    "        try:\n",
    "            n=int(input('Insert number of variables:'))\n",
    "            if n<2:\n",
    "                print('Number of variables must be positive and higher than one')\n",
    "                continue\n",
    "            break\n",
    "        except:\n",
    "            print('This is not an integer!')\n",
    "\n",
    "    #In this part user insert all functions\n",
    "    functions=[sympify(input('Insert function #{}:'.format(i+1))) for i in range(n)]\n",
    "\n",
    "    #This function contains the method of Newthon-Raphson\n",
    "    display(NewtonRaphsonModel(n,functions))\n",
    "    \n",
    "    while True:\n",
    "        resp=input('Do you want to prove other functions?[Y/N]:')\n",
    "        if resp.upper()=='Y':\n",
    "            break\n",
    "        elif resp.upper()=='N':\n",
    "            break\n",
    "        else:\n",
    "            print('Insert a valid option!')\n",
    "    \n",
    "    if resp.upper()=='Y':\n",
    "        clear_output()\n",
    "        continue\n",
    "    else:\n",
    "        break"
   ]
  },
  {
   "cell_type": "code",
   "execution_count": null,
   "metadata": {},
   "outputs": [],
   "source": []
  }
 ],
 "metadata": {
  "colab": {
   "collapsed_sections": [],
   "name": "Método de Newton.ipynb",
   "provenance": []
  },
  "kernelspec": {
   "display_name": "Python 3",
   "language": "python",
   "name": "python3"
  },
  "language_info": {
   "codemirror_mode": {
    "name": "ipython",
    "version": 3
   },
   "file_extension": ".py",
   "mimetype": "text/x-python",
   "name": "python",
   "nbconvert_exporter": "python",
   "pygments_lexer": "ipython3",
   "version": "3.7.1"
  }
 },
 "nbformat": 4,
 "nbformat_minor": 1
}
